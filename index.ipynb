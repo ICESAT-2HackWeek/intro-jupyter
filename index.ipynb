{
 "cells": [
  {
   "cell_type": "markdown",
   "metadata": {},
   "source": [
    "# Introduction to Rich Displays and Widgets in Jupyter\n",
    "\n",
    "1. IPython and Jupyter - an introduction\n",
    "   1. Project Jupyter and the JupyterLab environment (slides and demo).\n",
    "   1. Jupyter Notebooks: live computational narratives.\n",
    "   1. IPython: useful tips beyond plain Python.\n",
    "   \n",
    "2. Jupyter revisited: rich displays and widgets\n",
    "   1. Rich output in IPython.\n",
    "   1. Jupyter Widgets for interactivity\n",
    "\n",
    "3. Sharing your work: Binder\n",
    "   1. Binder overview (creating a basic Binder-compliant repo)."
   ]
  },
  {
   "cell_type": "markdown",
   "metadata": {},
   "source": [
    "## Extras\n",
    "\n",
    "A1. Git: version control and introduction to collaboration on Github (1:30 h)\n",
    "   1. A conceptual model of Git\n",
    "   1. Basic usage of Git locally\n",
    "   1. An introduction to collaboration via Github\n"
   ]
  },
  {
   "cell_type": "markdown",
   "metadata": {},
   "source": [
    "## Credit\n",
    "\n",
    "This collection of tutorials was adapted from the [ICESat-2 Hackweek tutorial](https://github.com/ICESAT-2HackWeek/intro-jupyter-git) by [@fperez](https://github.com/fperez)"
   ]
  }
 ],
 "metadata": {
  "kernelspec": {
   "display_name": "Python 3",
   "language": "python",
   "name": "python3"
  },
  "language_info": {
   "codemirror_mode": {
    "name": "ipython",
    "version": 3
   },
   "file_extension": ".py",
   "mimetype": "text/x-python",
   "name": "python",
   "nbconvert_exporter": "python",
   "pygments_lexer": "ipython3",
   "version": "3.7.3"
  }
 },
 "nbformat": 4,
 "nbformat_minor": 4
}
